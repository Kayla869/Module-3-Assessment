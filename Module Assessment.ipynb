{
  "metadata": {
    "language_info": {
      "codemirror_mode": {
        "name": "python",
        "version": 3
      },
      "file_extension": ".py",
      "mimetype": "text/x-python",
      "name": "python",
      "nbconvert_exporter": "python",
      "pygments_lexer": "ipython3",
      "version": "3.8"
    },
    "kernelspec": {
      "name": "python",
      "display_name": "Pyolite",
      "language": "python"
    }
  },
  "nbformat_minor": 4,
  "nbformat": 4,
  "cells": [
    {
      "cell_type": "markdown",
      "source": "# My Jupyter Notebook on IBM Watson Studio",
      "metadata": {}
    },
    {
      "cell_type": "markdown",
      "source": "**Kayla Farrell**\n\nEconomic Statistician ",
      "metadata": {}
    },
    {
      "cell_type": "markdown",
      "source": "*I am interested in data science because I think that having a good grasp of the analytical concepts will make me an asset in the data analysts community. I also love working with data and continuously challenging myself to reveal patterns, trends and models that can help in making data-driven decisions.*",
      "metadata": {}
    },
    {
      "cell_type": "markdown",
      "source": "### The code below will solve the addition of three numbers",
      "metadata": {}
    },
    {
      "cell_type": "code",
      "source": "10+30+27",
      "metadata": {
        "trusted": true
      },
      "execution_count": 3,
      "outputs": [
        {
          "execution_count": 3,
          "output_type": "execute_result",
          "data": {
            "text/plain": "67"
          },
          "metadata": {}
        }
      ]
    },
    {
      "cell_type": "markdown",
      "source": "| Year | Occupation | Country |\n| ------ | ------ |------ |\n| 2014 | Accounts Clerk | SKN |\n| 2017 |  Exchane Student at the University of Waterloo | Canada |\n| 2019 | Student at the University of the West Indies | Jamaica |\n| 2020 | Medical Statistician | SKN |\n\nThe table above shows a summary of my:\n* Work Experience\n* Educational History\n* Countries I have lived\n\nInformation on the Student Exchange Program can be found at [https://www.mona.uwi.edu/iso/exchangestudy-abroad]\n\n",
      "metadata": {}
    },
    {
      "cell_type": "code",
      "source": "",
      "metadata": {},
      "execution_count": null,
      "outputs": []
    }
  ]
}